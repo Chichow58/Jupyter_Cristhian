{
 "cells": [
  {
   "cell_type": "markdown",
   "id": "f02adc06-d73e-4fc5-9e6d-d932fc1e9917",
   "metadata": {},
   "source": [
    "# Data Science Tools and Ecosystem"
   ]
  },
  {
   "cell_type": "markdown",
   "id": "d7bc386c-a74b-4dc5-8df0-df50f9178325",
   "metadata": {},
   "source": [
    "## Author\n",
    "Cristhian Alfredo Torres Santos"
   ]
  },
  {
   "cell_type": "markdown",
   "id": "cba96abb-76e5-4d71-b68c-fe6bb712e372",
   "metadata": {},
   "source": [
    "In this notebook, Data Science Tools and Ecosystem are summarized."
   ]
  },
  {
   "cell_type": "markdown",
   "id": "b4ef380c-7ec8-4392-8780-c8b7bd3537b2",
   "metadata": {},
   "source": [
    "**Objectives:**\n",
    "- Commonly languages that Data Scientists.\n",
    "- Commonly used libraries used by Data Scientists.\n",
    "- Table of Data Science tools"
   ]
  },
  {
   "cell_type": "markdown",
   "id": "9940bde6-6331-4807-9f57-9456bc7c3c8f",
   "metadata": {},
   "source": [
    "Some of the popular languages that Data Scientists use are:\n",
    "1. Python\n",
    "2. R\n",
    "3. Julia"
   ]
  },
  {
   "cell_type": "markdown",
   "id": "8a16c23c-0b25-45ad-9ebf-c48402b8e374",
   "metadata": {},
   "source": [
    "Some of the commonly used libraries used by Data Scientists include:\n",
    "1. Matploit for Python\n",
    "2. Numpy for Python\n",
    "3. Scipy for Python"
   ]
  },
  {
   "cell_type": "markdown",
   "id": "615c1bc4-5a7f-4704-a5f7-e9c28a00c242",
   "metadata": {},
   "source": [
    "| Data Science Tools       |\n",
    "|--------------------------|\n",
    "| Jupyter Notebook         |\n",
    "| RStudio                  |\n",
    "| Apache Zeppelin          |"
   ]
  },
  {
   "cell_type": "markdown",
   "id": "f833afb2-b216-4dc0-9312-ca0d025d1dac",
   "metadata": {},
   "source": [
    "### Below are a few examples of evaluating arithmetic expressions in Python"
   ]
  },
  {
   "cell_type": "code",
   "execution_count": 6,
   "id": "c2c1deb6-607f-46b5-a3ec-e712f3234773",
   "metadata": {},
   "outputs": [
    {
     "name": "stdout",
     "output_type": "stream",
     "text": [
      "(3*4)+5 is 17\n"
     ]
    }
   ],
   "source": [
    "x=(3*4)+5\n",
    "print(f\"(3*4)+5 is {x}\")"
   ]
  },
  {
   "cell_type": "code",
   "execution_count": 5,
   "id": "9f515301-f482-4908-a259-3da8b9e77f09",
   "metadata": {},
   "outputs": [
    {
     "name": "stdout",
     "output_type": "stream",
     "text": [
      "200 in hours are: 3.3333333333333335\n"
     ]
    }
   ],
   "source": [
    "Minutes=200\n",
    "#This will convert 200 minutes to hours by diving by 60\n",
    "Hours=Minutes/60\n",
    "print(f\"{Minutes} in hours are: {Hours}\")"
   ]
  }
 ],
 "metadata": {
  "kernelspec": {
   "display_name": "Python 3 (ipykernel)",
   "language": "python",
   "name": "python3"
  },
  "language_info": {
   "codemirror_mode": {
    "name": "ipython",
    "version": 3
   },
   "file_extension": ".py",
   "mimetype": "text/x-python",
   "name": "python",
   "nbconvert_exporter": "python",
   "pygments_lexer": "ipython3",
   "version": "3.11.9"
  }
 },
 "nbformat": 4,
 "nbformat_minor": 5
}
